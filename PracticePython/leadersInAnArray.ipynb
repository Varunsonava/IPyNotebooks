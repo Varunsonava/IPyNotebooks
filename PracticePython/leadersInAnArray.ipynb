{
 "cells": [
  {
   "cell_type": "code",
   "execution_count": 5,
   "metadata": {},
   "outputs": [
    {
     "name": "stdout",
     "output_type": "stream",
     "text": [
      "0\n",
      "0\n"
     ]
    }
   ],
   "source": [
    "# Leaders in an array\n",
    "n=int(input())\n",
    "l=[int(i) for i in input().strip().split(\" \")]\n",
    "count=0\n",
    "for i in range(n):\n",
    "    flag=True\n",
    "    for j in range(i,n):\n",
    "        if l[j] > l[i]:\n",
    "            flag=False  \n",
    "    if flag==True:\n",
    "        print(l[i],end=\" \")"
   ]
  },
  {
   "cell_type": "code",
   "execution_count": 17,
   "metadata": {},
   "outputs": [
    {
     "name": "stdout",
     "output_type": "stream",
     "text": [
      "6\n",
      "3 12 34 2 0 -1\n",
      "[-1, 0, 2, 34]\n",
      "34 2 0 -1 "
     ]
    }
   ],
   "source": [
    "# Leaders in an array\n",
    "n=int(input())\n",
    "l=[int(i) for i in input().strip().split(\" \")]\n",
    "max=l[len(l)-1]\n",
    "res=[]\n",
    "res.append(max)\n",
    "for i in range(n-2,0,-1):\n",
    "    if max<=l[i]:\n",
    "        res.append(l[i])\n",
    "        max=l[i]        \n",
    "print(res)\n",
    "while len(res)!=0:\n",
    "    print(res.pop(),end=\" \")"
   ]
  }
 ],
 "metadata": {
  "kernelspec": {
   "display_name": "Python 3",
   "language": "python",
   "name": "python3"
  },
  "language_info": {
   "codemirror_mode": {
    "name": "ipython",
    "version": 3
   },
   "file_extension": ".py",
   "mimetype": "text/x-python",
   "name": "python",
   "nbconvert_exporter": "python",
   "pygments_lexer": "ipython3",
   "version": "3.6.5"
  }
 },
 "nbformat": 4,
 "nbformat_minor": 2
}
