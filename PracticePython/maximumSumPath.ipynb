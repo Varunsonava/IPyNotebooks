{
 "cells": [
  {
   "cell_type": "code",
   "execution_count": null,
   "metadata": {},
   "outputs": [],
   "source": [
    "list1_size=int(input())\n",
    "list1=[int(x) for x in input().strip().split(\" \")]\n",
    "list2_size=int(input())\n",
    "list2=[int(x) for x in input().strip().split(\" \")]\n",
    "list1Sum,list2Sum,i,j,res=0,0,0,0,0\n",
    "while i<list1_size and j<list2_size:\n",
    "    if list1[i]<list2[j]:\n",
    "        list1Sum+=list1[i]\n",
    "        i+=1\n",
    "    elif list1[i]>list2[j]:\n",
    "        list2Sum+=list2[j]\n",
    "        j+=1\n",
    "    else:\n",
    "        res+=list1[i]+max(list1Sum,list2Sum)\n",
    "        i+=1\n",
    "        j+=1\n",
    "        list1Sum,list2Sum=0,0\n",
    "\n",
    "while i<list1_size:\n",
    "    list1Sum+=list1[i]\n",
    "    i+=1\n",
    "\n",
    "while j<list2_size:\n",
    "    list2Sum+=list2[j]\n",
    "    j+=1\n",
    "\n",
    "res+=max(list1Sum,list2Sum)\n",
    "    \n",
    "print(res)"
   ]
  },
  {
   "cell_type": "code",
   "execution_count": 2,
   "metadata": {},
   "outputs": [
    {
     "name": "stdout",
     "output_type": "stream",
     "text": [
      "3\n"
     ]
    }
   ],
   "source": [
    "print(max(2,3))"
   ]
  },
  {
   "cell_type": "code",
   "execution_count": null,
   "metadata": {},
   "outputs": [],
   "source": []
  }
 ],
 "metadata": {
  "kernelspec": {
   "display_name": "Python 3",
   "language": "python",
   "name": "python3"
  },
  "language_info": {
   "codemirror_mode": {
    "name": "ipython",
    "version": 3
   },
   "file_extension": ".py",
   "mimetype": "text/x-python",
   "name": "python",
   "nbconvert_exporter": "python",
   "pygments_lexer": "ipython3",
   "version": "3.6.5"
  }
 },
 "nbformat": 4,
 "nbformat_minor": 2
}
