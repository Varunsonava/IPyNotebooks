{
 "cells": [
  {
   "cell_type": "code",
   "execution_count": null,
   "metadata": {},
   "outputs": [],
   "source": [
    "# how to create 2D array lists\n",
    "l2d=[[5*i+j for j in range(5)] for i in range(10)]\n",
    "print(l2d)"
   ]
  },
  {
   "cell_type": "code",
   "execution_count": 2,
   "metadata": {},
   "outputs": [
    {
     "name": "stdout",
     "output_type": "stream",
     "text": [
      "3 \n",
      "3\n",
      "1 2 3 4 5 6 7 8 9\n",
      "[[1, 2, 3], [4, 5, 6], [7, 8, 9]]\n",
      "[[1, 2, 3], [4, 5, 6], [7, 8, 9]]\n"
     ]
    }
   ],
   "source": [
    "# take input in a 2D array\n",
    "l=[]\n",
    "rows=int(input())\n",
    "cols=int(input())\n",
    "str = input().strip().split(\" \")\n",
    "l=[int(x) for x in str] # it contains m*n items\n",
    "output=[]\n",
    "for i in range(rows):\n",
    "    output.append([]) # adding an empty row\n",
    "    for j in range(cols):\n",
    "        output[i].append(l[i * cols + j])  \n",
    "print(output)\n",
    "output_alter=[[l[i*cols+j] for j in range(cols)] for i in range(rows)]\n",
    "print(output_alter)"
   ]
  },
  {
   "cell_type": "code",
   "execution_count": null,
   "metadata": {},
   "outputs": [],
   "source": [
    "# WavePrint\n",
    "for j in range(cols):\n",
    "    if j % 2 == 0 :\n",
    "        for i in range(rows):\n",
    "            print(output[i][j],end=\" \")\n",
    "    else :\n",
    "        for i in range(rows-1,-1,-1):\n",
    "            print(output[i][j],end=\" \")"
   ]
  },
  {
   "cell_type": "code",
   "execution_count": null,
   "metadata": {},
   "outputs": [],
   "source": [
    "l=[i for i in range(9,-1,-1)]\n",
    "l"
   ]
  },
  {
   "cell_type": "code",
   "execution_count": 3,
   "metadata": {},
   "outputs": [
    {
     "name": "stdout",
     "output_type": "stream",
     "text": [
      "1 \n",
      "['1']\n",
      "2\n",
      "['2']\n"
     ]
    }
   ],
   "source": [
    "l=[i for i in input().strip().split(\" \")]\n",
    "print(l)\n",
    "m=[i for i in input().strip().split(\" \")]\n",
    "print(m)"
   ]
  },
  {
   "cell_type": "code",
   "execution_count": null,
   "metadata": {},
   "outputs": [],
   "source": [
    "# Max Col/Row Sum\n",
    "l=[int(i) for i in input().strip().split(\" \")]\n",
    "n=l[0]\n",
    "m=l[1]\n",
    "arr=[int(i) for i in input().strip().split(\" \")]\n",
    "output=[[arr[i*m+j] for j in range(m)] for i in range(n)]\n",
    "\n",
    "max_row_sum=-9999999\n",
    "max_col_sum=-9999999\n",
    "max_row_index=0\n",
    "max_col_index=0\n",
    "\n",
    "for i in range(n):\n",
    "    cs=0\n",
    "    for j in range(m):\n",
    "        cs+=output[i][j]\n",
    "    if cs > max_row_sum:\n",
    "        max_row_sum=cs\n",
    "        max_row_index=i\n",
    "        \n",
    "for j in range(m):\n",
    "    cs=0\n",
    "    for i in range(n):\n",
    "        cs+=output[i][j]\n",
    "    if cs > max_col_sum:\n",
    "        max_col_sum=cs\n",
    "        max_col_index=j\n",
    "\n",
    "if max_row_sum<max_col_sum:\n",
    "    print(\"column\",end=\" \")\n",
    "    print(max_col_index,end=\" \")\n",
    "    print(max_col_sum)\n",
    "else :\n",
    "    print(\"row\",end=\" \")\n",
    "    print(max_row_index,end=\" \")\n",
    "    print(max_row_sum)"
   ]
  },
  {
   "cell_type": "code",
   "execution_count": 28,
   "metadata": {},
   "outputs": [
    {
     "name": "stdout",
     "output_type": "stream",
     "text": [
      "4 4 1 2 3 4 5 6 7 8 9 10 11 12 13 14 15 16\n",
      "4 4 1 2 3 4 5 6 7 8 9 10 11 12 13 14 15 16\n",
      "4 4 1 2 6 10 14 13 12 11 7 3 4 5 9 8 "
     ]
    }
   ],
   "source": [
    "# Spiral Print\n",
    "l=[int(i) for i in input().strip().split(\" \")]\n",
    "n=l[0] # number of rows\n",
    "m=l[1] # number of columns\n",
    "arr=[int(i) for i in input().strip().split(\" \")]\n",
    "output=[[arr[i*m+j] for j in range(m)] for i in range(n)]\n",
    "left,right,top,bottom,direction=0,m-1,0,n-1,1\n",
    "count=n*m\n",
    "while count>0:\n",
    "    if direction==1:\n",
    "        for i in range(left,right+1,1):\n",
    "            print(output[top][i],end=\" \")\n",
    "            count-=1\n",
    "        direction=2\n",
    "        top+=1\n",
    "    \n",
    "    if direction==2:\n",
    "        for i in range(top,bottom+1,1):\n",
    "            print(output[i][right],end=\" \")\n",
    "            count-=1\n",
    "        direction=3\n",
    "        right-=1\n",
    "        \n",
    "    if direction==3:\n",
    "        for i in range(right,left-1,-1):\n",
    "            print(output[bottom][i],end=\" \")\n",
    "            count-=1\n",
    "        direction=4\n",
    "        bottom-=1\n",
    "        \n",
    "    if direction==4:\n",
    "        for i in range(bottom,top-1,-1):\n",
    "            print(output[i][left],end=\" \")\n",
    "            count-=1\n",
    "        direction=1\n",
    "        left+=1"
   ]
  },
  {
   "cell_type": "code",
   "execution_count": 30,
   "metadata": {},
   "outputs": [
    {
     "name": "stdout",
     "output_type": "stream",
     "text": [
      "4 4 1 2 3 4 5 6 7 8 9 10 11 12 13 14 15 16\n",
      "[[1, 2, 3, 4], [5, 6, 7, 8], [9, 10, 11, 12], [13, 14, 15, 16]]\n",
      "1 2 3 4 8 12 16 15 14 13 9 5 6 7 11 10 "
     ]
    }
   ],
   "source": [
    "# Spiral Print\n",
    "arr=[int(i) for i in input().strip().split(\" \")]\n",
    "n=arr[0] # number of rows\n",
    "m=arr[1] # number of columns\n",
    "arr=arr[2:]\n",
    "output=[[arr[i*m+j] for j in range(m)] for i in range(n)]\n",
    "print(output)\n",
    "left,right,top,bottom,direction=0,m-1,0,n-1,1\n",
    "count=n*m\n",
    "while count>0:\n",
    "    if direction==1:\n",
    "        for i in range(left,right+1,1):\n",
    "            print(output[top][i],end=\" \")\n",
    "            count-=1\n",
    "        direction=2\n",
    "        top+=1\n",
    "    \n",
    "    if direction==2:\n",
    "        for i in range(top,bottom+1,1):\n",
    "            print(output[i][right],end=\" \")\n",
    "            count-=1\n",
    "        direction=3\n",
    "        right-=1\n",
    "        \n",
    "    if direction==3:\n",
    "        for i in range(right,left-1,-1):\n",
    "            print(output[bottom][i],end=\" \")\n",
    "            count-=1\n",
    "        direction=4\n",
    "        bottom-=1\n",
    "        \n",
    "    if direction==4:\n",
    "        for i in range(bottom,top-1,-1):\n",
    "            print(output[i][left],end=\" \")\n",
    "            count-=1\n",
    "        direction=1\n",
    "        left+=1"
   ]
  }
 ],
 "metadata": {
  "kernelspec": {
   "display_name": "Python 3",
   "language": "python",
   "name": "python3"
  },
  "language_info": {
   "codemirror_mode": {
    "name": "ipython",
    "version": 3
   },
   "file_extension": ".py",
   "mimetype": "text/x-python",
   "name": "python",
   "nbconvert_exporter": "python",
   "pygments_lexer": "ipython3",
   "version": "3.6.5"
  }
 },
 "nbformat": 4,
 "nbformat_minor": 2
}
