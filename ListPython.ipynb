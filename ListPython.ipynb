{
 "cells": [
  {
   "cell_type": "code",
   "execution_count": 15,
   "metadata": {},
   "outputs": [
    {
     "data": {
      "text/plain": [
       "5"
      ]
     },
     "execution_count": 15,
     "metadata": {},
     "output_type": "execute_result"
    }
   ],
   "source": [
    "# creating lists\n",
    "# tuples are immutable while list are mutable\n",
    "# list is collection of data of any type\n",
    "a=[1,2,3]\n",
    "type(a)\n",
    "b=list()\n",
    "a1=[i for i in range(0,10)]\n",
    "a1\n",
    "a2=[i*i for i in range(0,10)]\n",
    "a2\n",
    "a3=[\"apple\",123,'a']\n",
    "a3\n",
    "b\n",
    "c=list(\"hello\")\n",
    "len(c)"
   ]
  },
  {
   "cell_type": "code",
   "execution_count": 2,
   "metadata": {},
   "outputs": [
    {
     "name": "stdout",
     "output_type": "stream",
     "text": [
      "[2]\n",
      "[2, 3]\n",
      "[3, 2, 1]\n",
      "1\n",
      "2\n",
      "3\n"
     ]
    }
   ],
   "source": [
    "# indexing and slicing\n",
    "print(a[1:2])\n",
    "print(a[1:3])\n",
    "print(a[::-1])\n",
    "for ele in a:\n",
    "    print(ele)"
   ]
  },
  {
   "cell_type": "code",
   "execution_count": 9,
   "metadata": {},
   "outputs": [
    {
     "name": "stdout",
     "output_type": "stream",
     "text": [
      "231 4 15 1\n"
     ]
    },
    {
     "data": {
      "text/plain": [
       "[231, 4, 15, 1]"
      ]
     },
     "execution_count": 9,
     "metadata": {},
     "output_type": "execute_result"
    }
   ],
   "source": [
    "# common string functions\n",
    "str=input().strip()\n",
    "#str.strip() # removes the space at the start and the end\n",
    "# elaborated code\n",
    "l=str.split(\" \")\n",
    "for i in range(0,len(l)):\n",
    "    l[i]=int(l[i])\n",
    "l"
   ]
  },
  {
   "cell_type": "code",
   "execution_count": 17,
   "metadata": {},
   "outputs": [
    {
     "name": "stdout",
     "output_type": "stream",
     "text": [
      "2\n"
     ]
    },
    {
     "data": {
      "text/plain": [
       "[2]"
      ]
     },
     "execution_count": 17,
     "metadata": {},
     "output_type": "execute_result"
    }
   ],
   "source": [
    "# or for a more shorter code\n",
    "# one line of code\n",
    "l=[int(x) for x in input().strip().split(\" \")]\n",
    "l"
   ]
  },
  {
   "cell_type": "code",
   "execution_count": 49,
   "metadata": {},
   "outputs": [
    {
     "data": {
      "text/plain": [
       "[1, 'abc', 2, 3, 'a', 4, 5, 6, 2, 5, 6]"
      ]
     },
     "execution_count": 49,
     "metadata": {},
     "output_type": "execute_result"
    }
   ],
   "source": [
    "# add elements\n",
    "l=[1,2,3]\n",
    "l.append('a')\n",
    "l.insert(1,'abc') # insert(index,element)\n",
    "l2=[4,5,6]\n",
    "l.extend(l2)\n",
    "l\n",
    "l.append(2)\n",
    "l.append(5)\n",
    "l.append(6)\n",
    "l"
   ]
  },
  {
   "cell_type": "code",
   "execution_count": 50,
   "metadata": {},
   "outputs": [
    {
     "name": "stdout",
     "output_type": "stream",
     "text": [
      "[1, 'abc', 2, 3, 'a', 4, 5, 6, 2, 5]\n",
      "[1, 'abc', 3, 'a', 4, 5, 6, 2, 5]\n",
      "[1, 'abc', 'a', 4, 5, 6, 2, 5]\n",
      "['abc', 'a', 4, 6, 2, 5]\n",
      "['a', 4, 6, 2, 5]\n",
      "['a', 2, 5]\n"
     ]
    }
   ],
   "source": [
    "# deleting elements\n",
    "l.pop() # removes last element\n",
    "print(l)\n",
    "l.pop(2) # removes at index 2\n",
    "print(l)\n",
    "l.remove(3) # removes first occurance of 3\n",
    "print(l)\n",
    "l.remove(1) # removes first occurance of 1\n",
    "l.remove(5) # removes first occurance of 5\n",
    "print(l)\n",
    "del l[0]\n",
    "print(l)\n",
    "del l[1:3]\n",
    "print(l)"
   ]
  },
  {
   "cell_type": "code",
   "execution_count": null,
   "metadata": {},
   "outputs": [],
   "source": [
    "6"
   ]
  },
  {
   "cell_type": "code",
   "execution_count": 62,
   "metadata": {},
   "outputs": [
    {
     "name": "stdout",
     "output_type": "stream",
     "text": [
      "2\n",
      "[9, 8, 7, 5, 5, 3, 2, 1]\n",
      "False\n",
      "9\n"
     ]
    }
   ],
   "source": [
    "li=[7,8,1,2,9,3,5,5]\n",
    "li.sort() \n",
    "li.reverse()\n",
    "print(li.count(5))\n",
    "print(li)\n",
    "print(10 in li)\n",
    "print(max(li))"
   ]
  },
  {
   "cell_type": "code",
   "execution_count": 67,
   "metadata": {},
   "outputs": [
    {
     "data": {
      "text/plain": [
       "[1, 2, 3, 6, 7]"
      ]
     },
     "execution_count": 67,
     "metadata": {},
     "output_type": "execute_result"
    }
   ],
   "source": [
    "# Bubble Sort\n",
    "l=[3,2,7,1,6]\n",
    "n=len(l)\n",
    "for j in range(n-1):\n",
    "    for i in range(0,n-1-j):\n",
    "        if l[i]>l[i+1]:\n",
    "            t=l[i]\n",
    "            l[i]=l[i+1]\n",
    "            l[i+1]=t\n",
    "l"
   ]
  },
  {
   "cell_type": "code",
   "execution_count": 71,
   "metadata": {},
   "outputs": [
    {
     "data": {
      "text/plain": [
       "[1, 2, 3, 6, 7]"
      ]
     },
     "execution_count": 71,
     "metadata": {},
     "output_type": "execute_result"
    }
   ],
   "source": [
    "# Selection Sort\n",
    "l1=[3,2,5,1,8,10,7]\n",
    "n=len(l)\n",
    "for i in range(0,n-1):\n",
    "    min=i\n",
    "    for j in range(i,n):\n",
    "        if l[j]<l[min]:\n",
    "            min=j\n",
    "    t=l[min]\n",
    "    l[min]=l[i]\n",
    "    l[i]=t\n",
    "l"
   ]
  },
  {
   "cell_type": "code",
   "execution_count": null,
   "metadata": {},
   "outputs": [],
   "source": [
    "# n=int(input())\n",
    "l=[int(i) for i in input().strip().split(\" \")]\n",
    "l"
   ]
  },
  {
   "cell_type": "code",
   "execution_count": 100,
   "metadata": {},
   "outputs": [
    {
     "name": "stdout",
     "output_type": "stream",
     "text": [
      "1 \n",
      "921 0 921\n",
      "1\n"
     ]
    }
   ],
   "source": [
    "n=int(input())\n",
    "l=[int(i) for i in input().strip().split(\" \")]\n",
    "for i in range(0,len(l)-1):\n",
    "    j=i-1\n",
    "    leftSum=0\n",
    "    rightSum=0\n",
    "    while j>=0:\n",
    "        leftSum+=l[j]\n",
    "        j-=1\n",
    "    j=i+1\n",
    "    while j<len(l):\n",
    "        rightSum+=l[j]\n",
    "        j+=1\n",
    "    if leftSum==rightSum:\n",
    "        print(i)\n",
    "        break"
   ]
  }
 ],
 "metadata": {
  "kernelspec": {
   "display_name": "Python 3",
   "language": "python",
   "name": "python3"
  },
  "language_info": {
   "codemirror_mode": {
    "name": "ipython",
    "version": 3
   },
   "file_extension": ".py",
   "mimetype": "text/x-python",
   "name": "python",
   "nbconvert_exporter": "python",
   "pygments_lexer": "ipython3",
   "version": "3.6.5"
  }
 },
 "nbformat": 4,
 "nbformat_minor": 2
}
