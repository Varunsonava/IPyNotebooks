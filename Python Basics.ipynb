{
 "cells": [
  {
   "cell_type": "markdown",
   "metadata": {},
   "source": [
    "## Intro to Jupyter\n",
    "\n",
    "WE CAN WRITE CODE IN PYTHON AND ALSO USE MARKDOWN "
   ]
  },
  {
   "cell_type": "code",
   "execution_count": 2,
   "metadata": {},
   "outputs": [
    {
     "name": "stdout",
     "output_type": "stream",
     "text": [
      "12,10\n",
      "5\n"
     ]
    }
   ],
   "source": [
    "# Print Function\n",
    "print(12,end=\",\")\n",
    "print(10)\n",
    "print(5)\n",
    "b=10"
   ]
  },
  {
   "cell_type": "code",
   "execution_count": 24,
   "metadata": {},
   "outputs": [
    {
     "data": {
      "text/plain": [
       "40"
      ]
     },
     "execution_count": 24,
     "metadata": {},
     "output_type": "execute_result"
    }
   ],
   "source": [
    "# Last Line is Output\n",
    "a=10\n",
    "a+5\n",
    "a+2\n",
    "a+10\n",
    "a+30"
   ]
  },
  {
   "cell_type": "code",
   "execution_count": 20,
   "metadata": {},
   "outputs": [
    {
     "name": "stdout",
     "output_type": "stream",
     "text": [
      "<class 'int'>\n",
      "<class 'float'>\n",
      "<class 'complex'>\n"
     ]
    }
   ],
   "source": [
    "# Variables and type of numbers\n",
    "a=10\n",
    "print(type(a))\n",
    "a=10.3\n",
    "print(type(a))\n",
    "a=2+3j\n",
    "print(type(a))"
   ]
  },
  {
   "cell_type": "code",
   "execution_count": 34,
   "metadata": {},
   "outputs": [
    {
     "name": "stdout",
     "output_type": "stream",
     "text": [
      "12\n",
      "22\n",
      "0.5454545454545454\n",
      "0\n",
      "144\n",
      "5\n",
      "6\n"
     ]
    }
   ],
   "source": [
    "# Operators\n",
    "a=12\n",
    "# Since we have not declared b in this cell, so we first run the other cell in which we have declared b and then we run this cell\n",
    "c=a+b\n",
    "print(a)\n",
    "print(c)\n",
    "print(a/c)\n",
    "print(a//c)\n",
    "print(a**2)\n",
    "# Pair-wise initialization\n",
    "x,y=5,6\n",
    "print(x)\n",
    "print(y)"
   ]
  },
  {
   "cell_type": "code",
   "execution_count": 41,
   "metadata": {},
   "outputs": [
    {
     "name": "stdout",
     "output_type": "stream",
     "text": [
      "this is python3\n"
     ]
    }
   ],
   "source": [
    "# Strings\n",
    "a=\"this is python3\"\n",
    "print(a)"
   ]
  },
  {
   "cell_type": "code",
   "execution_count": 75,
   "metadata": {
    "scrolled": true
   },
   "outputs": [
    {
     "name": "stdout",
     "output_type": "stream",
     "text": [
      "3\n",
      "<class 'str'>\n",
      "a\n",
      "<class 'str'>\n",
      "abc123\n"
     ]
    }
   ],
   "source": [
    "# Typical String Properties\n",
    "print(len(a))\n",
    "print(type(a))\n",
    "print(a[0])\n",
    "# a[1]='8' INVALID! Strings are immutable in Python\n",
    "print(type(a[0])) # In Python,there is no character , everything is a string \n",
    "x='abc'\n",
    "y=\"123\"\n",
    "z=x+y # String Concatenation\n",
    "print(z)"
   ]
  },
  {
   "cell_type": "code",
   "execution_count": 79,
   "metadata": {},
   "outputs": [
    {
     "name": "stdout",
     "output_type": "stream",
     "text": [
      "abc\n",
      "ABC\n",
      "Abc\n",
      "    Abc \n",
      "Abc\n"
     ]
    }
   ],
   "source": [
    "# Some more String functions\n",
    "a='Abc'\n",
    "print(a.lower())\n",
    "print(a.upper())\n",
    "print(a)\n",
    "b='    Abc '\n",
    "print(b)\n",
    "print(b.strip())"
   ]
  },
  {
   "cell_type": "code",
   "execution_count": 64,
   "metadata": {},
   "outputs": [
    {
     "name": "stdout",
     "output_type": "stream",
     "text": [
      "1\n",
      "<class 'str'>\n",
      "1\n",
      "<class 'int'>\n"
     ]
    }
   ],
   "source": [
    "# User Input\n",
    "a=input()\n",
    "print(type(a))\n",
    "# By default , input() returns a string\n",
    "a=int(input())\n",
    "# Now , we have basically typecasted it into an integer\n",
    "print(type(a))"
   ]
  },
  {
   "cell_type": "code",
   "execution_count": 73,
   "metadata": {},
   "outputs": [
    {
     "name": "stdout",
     "output_type": "stream",
     "text": [
      "a\n",
      "a\n"
     ]
    }
   ],
   "source": [
    "# Negative indexing\n",
    "a='abc'\n",
    "# Getting the char by indexing (0,1...n-1)\n",
    "print(a[0])\n",
    "# Reverse indexing (-n,.....-2,-1)\n",
    "print(a[-3]) "
   ]
  },
  {
   "cell_type": "code",
   "execution_count": 13,
   "metadata": {},
   "outputs": [
    {
     "name": "stdout",
     "output_type": "stream",
     "text": [
      "bc\n",
      "de\n",
      "cdef\n",
      "abcdef\n",
      "fedcba\n"
     ]
    }
   ],
   "source": [
    "# String slicing (extracting the substring)\n",
    "s='abcdef'\n",
    "# Starting is included , ending is not included just like it is in Java\n",
    "print(s[1:3])\n",
    "print(s[-3:-1])\n",
    "# If you want from starting till end , then just leave the 2nd part of range blank\n",
    "print(s[2:])\n",
    "print(s[:])\n",
    "print(s[-1::-1])"
   ]
  },
  {
   "cell_type": "code",
   "execution_count": 7,
   "metadata": {},
   "outputs": [
    {
     "data": {
      "text/plain": [
       "'o'"
      ]
     },
     "execution_count": 7,
     "metadata": {},
     "output_type": "execute_result"
    }
   ],
   "source": [
    "\"hello\"[-1:]"
   ]
  },
  {
   "cell_type": "code",
   "execution_count": 103,
   "metadata": {},
   "outputs": [
    {
     "name": "stdout",
     "output_type": "stream",
     "text": [
      "<class 'tuple'>\n",
      "(1, 2)\n",
      "('abc', 5.5)\n"
     ]
    }
   ],
   "source": [
    "# Tuples\n",
    "# Use rounded brackets for making tuples\n",
    "t = (1,2,3)  \n",
    "print(type(t))\n",
    "# t[0]=1 INVALID! Like strings ,tuples are also immumtable\n",
    "print(t[0:2])\n",
    "# Slicing in tuples takes place from index 1 to index 2 (as last index is exclusive). \n",
    "# Tuples can also items of different types\n",
    "t2=(1,'abc',5.5)\n",
    "print(t2[1:])\n",
    "# Values cannot be modified in the case of tuple, that is, tuple is immutable. "
   ]
  },
  {
   "cell_type": "code",
   "execution_count": 17,
   "metadata": {},
   "outputs": [
    {
     "name": "stdout",
     "output_type": "stream",
     "text": [
      "(1, 2, 'abc', 1)\n",
      "(1, 2, 1, 2)\n",
      "True\n",
      "False\n"
     ]
    }
   ],
   "source": [
    "# Operations on tuple\n",
    "t=(1,2)\n",
    "k=('abc',1)\n",
    "t+k\n",
    "print(t+k)\n",
    "print(t * 2)\n",
    "print(2 in t)\n",
    "print(2 in k)"
   ]
  },
  {
   "cell_type": "code",
   "execution_count": 21,
   "metadata": {},
   "outputs": [
    {
     "data": {
      "text/plain": [
       "bool"
      ]
     },
     "execution_count": 21,
     "metadata": {},
     "output_type": "execute_result"
    }
   ],
   "source": [
    "# boolean datatype\n",
    "a=True\n",
    "type(a)"
   ]
  },
  {
   "cell_type": "code",
   "execution_count": 23,
   "metadata": {},
   "outputs": [
    {
     "data": {
      "text/plain": [
       "True"
      ]
     },
     "execution_count": 23,
     "metadata": {},
     "output_type": "execute_result"
    }
   ],
   "source": [
    "# relational operators\n",
    "x=10\n",
    "y=20\n",
    "x>y\n",
    "x==y\n",
    "x<=y"
   ]
  },
  {
   "cell_type": "code",
   "execution_count": 27,
   "metadata": {},
   "outputs": [
    {
     "data": {
      "text/plain": [
       "True"
      ]
     },
     "execution_count": 27,
     "metadata": {},
     "output_type": "execute_result"
    }
   ],
   "source": [
    "# logical operators\n",
    "x=10\n",
    "y=20\n",
    "x == 10 and y == 20"
   ]
  },
  {
   "cell_type": "markdown",
   "metadata": {},
   "source": [
    "## IN PYTHON INDENTATION IS COMPULSORY"
   ]
  },
  {
   "cell_type": "code",
   "execution_count": 28,
   "metadata": {},
   "outputs": [
    {
     "name": "stdout",
     "output_type": "stream",
     "text": [
      "20\n"
     ]
    }
   ],
   "source": [
    "if x>y:\n",
    "    print(x)\n",
    "else:\n",
    "    print(y)"
   ]
  },
  {
   "cell_type": "code",
   "execution_count": 37,
   "metadata": {},
   "outputs": [
    {
     "name": "stdout",
     "output_type": "stream",
     "text": [
      "70\n"
     ]
    }
   ],
   "source": [
    "x,y,z=40,70,30\n",
    "## if condition can be put in brackets or not ,its optional\n",
    "if(x>=y and x>=z):\n",
    "    print(x)\n",
    "elif y>=x and y>=z:\n",
    "    print(y)\n",
    "else:\n",
    "    print(z)"
   ]
  },
  {
   "cell_type": "code",
   "execution_count": 39,
   "metadata": {},
   "outputs": [
    {
     "name": "stdout",
     "output_type": "stream",
     "text": [
      "B\n"
     ]
    }
   ],
   "source": [
    "if True or True:\n",
    "    if False and True or False:\n",
    "        print('A')\n",
    "    elif False and False or True and True:\n",
    "        print('B')\n",
    "    else:\n",
    "        print('C')\n",
    "else:\n",
    "     print('D')"
   ]
  },
  {
   "cell_type": "markdown",
   "metadata": {},
   "source": [
    "## LOOPING\n"
   ]
  },
  {
   "cell_type": "code",
   "execution_count": 45,
   "metadata": {},
   "outputs": [
    {
     "name": "stdout",
     "output_type": "stream",
     "text": [
      "30\n",
      "1 2 3 4 5 6 7 8 9 10 11 12 13 14 15 16 17 18 19 20 21 22 23 24 25 26 27 28 29 30 "
     ]
    }
   ],
   "source": [
    "# while loop\n",
    "i=1\n",
    "n=int(input())\n",
    "while i<=n:\n",
    "    print(i,end=\" \")\n",
    "    i=i+1\n"
   ]
  },
  {
   "cell_type": "code",
   "execution_count": 48,
   "metadata": {},
   "outputs": [
    {
     "name": "stdout",
     "output_type": "stream",
     "text": [
      "3 5 7 9 11 13 15 17 19 21 23 25 27 29 "
     ]
    }
   ],
   "source": [
    "# for loop\n",
    "for i in range(3,n,2): # By default , range starts from 0 and the increment is by +1\n",
    "    print(i,end=\" \")"
   ]
  },
  {
   "cell_type": "code",
   "execution_count": 55,
   "metadata": {},
   "outputs": [
    {
     "name": "stdout",
     "output_type": "stream",
     "text": [
      "PRIME\n"
     ]
    }
   ],
   "source": [
    "# prime numbers\n",
    "n=29\n",
    "flag=True\n",
    "for i in range(2,n):\n",
    "    if n%i==0:\n",
    "        flag=False\n",
    "        break\n",
    "if flag==True:\n",
    "    print(\"PRIME\")\n",
    "else:\n",
    "    print(\"NOT PRIME\")"
   ]
  },
  {
   "cell_type": "code",
   "execution_count": 60,
   "metadata": {},
   "outputs": [
    {
     "name": "stdout",
     "output_type": "stream",
     "text": [
      "a b c d \n",
      "1 2 3 4 5 "
     ]
    }
   ],
   "source": [
    "# fast iterations\n",
    "s=\"abcd\"\n",
    "for c in s:\n",
    "    print(c,end=\" \")\n",
    "t=(1,2,3,4,5)\n",
    "print() # for a new line\n",
    "for element in t:\n",
    "    print(element,end=\" \")"
   ]
  },
  {
   "cell_type": "code",
   "execution_count": 63,
   "metadata": {},
   "outputs": [
    {
     "name": "stdout",
     "output_type": "stream",
     "text": [
      "3 4 5 "
     ]
    }
   ],
   "source": [
    "a = 3\n",
    "for i in range(a):\n",
    "    print(a, end= \" \")\n",
    "    a +=1\n",
    "# Changes do not happen in-place, once a range is fixed ,it is fixed."
   ]
  },
  {
   "cell_type": "code",
   "execution_count": null,
   "metadata": {},
   "outputs": [],
   "source": [
    "x = 'abcd'\n",
    "for i in x:\n",
    "    print(i, end = \" \")\n",
    "    x.upper()\n",
    "# Changes do not happen in-place, rather a new instance of the string is returned."
   ]
  },
  {
   "cell_type": "code",
   "execution_count": 98,
   "metadata": {},
   "outputs": [
    {
     "name": "stdout",
     "output_type": "stream",
     "text": [
      "10\n",
      "1                  1\n",
      "12                21\n",
      "123              321\n",
      "1234            4321\n",
      "12345          54321\n",
      "123456        654321\n",
      "1234567      7654321\n",
      "12345678    87654321\n",
      "123456789  987654321\n",
      "1234567891010987654321\n"
     ]
    }
   ],
   "source": [
    "# pattern question\n",
    "n = int(input())\n",
    "spaces = (n-1) * 2\n",
    "for i in range(1,n+1): \n",
    "    for j in range(1,i+1):\n",
    "        print(j,end=\"\")\n",
    "    jumps=spaces\n",
    "    while jumps>=1:\n",
    "        print(\" \",end=\"\")\n",
    "        jumps-=1\n",
    "    spaces=spaces-2   \n",
    "    for k in range(j,0,-1):\n",
    "        print(k,end=\"\")\n",
    "    print()"
   ]
  },
  {
   "cell_type": "code",
   "execution_count": 153,
   "metadata": {},
   "outputs": [
    {
     "name": "stdout",
     "output_type": "stream",
     "text": [
      "emocle "
     ]
    }
   ],
   "source": [
    "s=\"welcome\"\n",
    "i,j=0,0\n",
    "for c in s:\n",
    "    j+=1\n",
    "    if c==' ' or j==len(s)-1:\n",
    "        print(s[j:i-j:-1],end=\" \")\n",
    "    i=j+1        "
   ]
  },
  {
   "cell_type": "code",
   "execution_count": 156,
   "metadata": {},
   "outputs": [
    {
     "name": "stdout",
     "output_type": "stream",
     "text": [
      "edcba\n"
     ]
    }
   ],
   "source": [
    "str=\"abcde\"\n",
    "print(str[::-1])"
   ]
  },
  {
   "cell_type": "code",
   "execution_count": 159,
   "metadata": {},
   "outputs": [],
   "source": [
    "def sum(a,b):\n",
    "    z = a + b\n",
    "    return z"
   ]
  },
  {
   "cell_type": "code",
   "execution_count": 158,
   "metadata": {},
   "outputs": [
    {
     "name": "stdout",
     "output_type": "stream",
     "text": [
      "30\n"
     ]
    }
   ],
   "source": [
    "a=10\n",
    "b=20\n",
    "print(sum(a,b))"
   ]
  },
  {
   "cell_type": "code",
   "execution_count": 162,
   "metadata": {},
   "outputs": [
    {
     "name": "stdout",
     "output_type": "stream",
     "text": [
      "1267650600228229401496703205376\n"
     ]
    }
   ],
   "source": [
    "def power(x,y):\n",
    "    return x**y\n",
    "print(power(2,100))"
   ]
  },
  {
   "cell_type": "code",
   "execution_count": 178,
   "metadata": {},
   "outputs": [
    {
     "name": "stdout",
     "output_type": "stream",
     "text": [
      "9\n",
      "5\n",
      "3\n",
      "3\n",
      "6\n"
     ]
    }
   ],
   "source": [
    "def tripleSum(a=1,b=1,c=1): # default arguments\n",
    "    return a+b+c\n",
    "print(tripleSum(1,3,5)) # for a,b and c\n",
    "print(tripleSum(1,3)) # for a and b\n",
    "print(tripleSum(1)) # for a\n",
    "print(tripleSum()) # default parameters will be used\n",
    "print(tripleSum(b=4)) # for b"
   ]
  },
  {
   "cell_type": "code",
   "execution_count": 182,
   "metadata": {},
   "outputs": [
    {
     "name": "stdout",
     "output_type": "stream",
     "text": [
      "15\n"
     ]
    }
   ],
   "source": [
    "# variable sized input\n",
    "def sum(a,b,*more):\n",
    "    ans=a+b\n",
    "    for other_element in more:\n",
    "        ans+=other_element\n",
    "    return ans\n",
    "\n",
    "print(sum(5,4,1,2,3))"
   ]
  },
  {
   "cell_type": "code",
   "execution_count": 185,
   "metadata": {},
   "outputs": [
    {
     "name": "stdout",
     "output_type": "stream",
     "text": [
      "(12, -2)\n",
      "30\n",
      "-10\n"
     ]
    }
   ],
   "source": [
    "# getting more than one output\n",
    "def operation(a,b):\n",
    "    return a+b,a-b\n",
    "print(operation(5,7))\n",
    "sum,difference=operation(10,20)\n",
    "print(sum)\n",
    "print(difference)"
   ]
  },
  {
   "cell_type": "code",
   "execution_count": 187,
   "metadata": {},
   "outputs": [
    {
     "name": "stdout",
     "output_type": "stream",
     "text": [
      "50\n"
     ]
    }
   ],
   "source": [
    "x = 50\n",
    "def change(x):\n",
    "     x = 2\n",
    "change(x)\n",
    "print(x)"
   ]
  },
  {
   "cell_type": "code",
   "execution_count": 224,
   "metadata": {},
   "outputs": [
    {
     "name": "stdout",
     "output_type": "stream",
     "text": [
      "4000\n",
      "3382\n"
     ]
    }
   ],
   "source": [
    "# Even Fibonacci\n",
    "n=int(input())\n",
    "print(evenFibo(n))\n",
    "def evenFibo(n):\n",
    "    first=0\n",
    "    second=1\n",
    "    third=1\n",
    "    sum=0\n",
    "    while True:\n",
    "        first=second\n",
    "        second=third\n",
    "       # print(third,end=\" \")\n",
    "        third=first+second\n",
    "        if third>n:\n",
    "            break;\n",
    "        if third%2==0: # check if the number is even\n",
    "            sum+=third\n",
    "    return sum "
   ]
  },
  {
   "cell_type": "code",
   "execution_count": 235,
   "metadata": {},
   "outputs": [
    {
     "name": "stdout",
     "output_type": "stream",
     "text": [
      "0\n"
     ]
    }
   ],
   "source": [
    "# Reverse staircase\n",
    "n=int(input())\n",
    "rowNum=1\n",
    "curr=1\n",
    "for rowNum in range(1,n+1):\n",
    "    iter=rowNum\n",
    "    if rowNum%2==0:\n",
    "        temp=curr+rowNum-1\n",
    "        while iter!=0:\n",
    "            print(temp,end=\" \")\n",
    "            temp-=1\n",
    "            curr+=1\n",
    "            iter-=1\n",
    "    else:\n",
    "        temp=curr\n",
    "        while iter!=0:\n",
    "            print(temp,end=\" \")\n",
    "            temp+=1\n",
    "            curr+=1\n",
    "            iter-=1        \n",
    "    print()"
   ]
  },
  {
   "cell_type": "code",
   "execution_count": 246,
   "metadata": {},
   "outputs": [
    {
     "name": "stdout",
     "output_type": "stream",
     "text": [
      "0\n",
      "0\n"
     ]
    }
   ],
   "source": [
    "# Decimal to Binary\n",
    "dec=int(input())\n",
    "tenpowers=1\n",
    "res=0\n",
    "while dec>0:\n",
    "    rem=dec%2\n",
    "    res=res+(rem*tenpowers)\n",
    "    tenpowers*=10\n",
    "    dec=dec//2\n",
    "print(res)"
   ]
  },
  {
   "cell_type": "code",
   "execution_count": 250,
   "metadata": {},
   "outputs": [
    {
     "name": "stdout",
     "output_type": "stream",
     "text": [
      "100\n",
      "24\n"
     ]
    }
   ],
   "source": [
    "# No of trailing zeroes in factorial\n",
    "\n",
    "def expo(n,pow):\n",
    "    if pow==0:\n",
    "        return 1\n",
    "    elif pow==1:\n",
    "        return n\n",
    "    elif pow%2==0:\n",
    "        return expo(n,pow/2)*expo(n,pow/2)\n",
    "    else:\n",
    "        return n*expo(n,pow-1)\n",
    "\n",
    "n=int(input())\n",
    "pow=1\n",
    "ans=0\n",
    "while n>0:\n",
    "    n=n//expo(5,pow)\n",
    "    ans+=n\n",
    "print(ans)"
   ]
  }
 ],
 "metadata": {
  "kernelspec": {
   "display_name": "Python 3",
   "language": "python",
   "name": "python3"
  },
  "language_info": {
   "codemirror_mode": {
    "name": "ipython",
    "version": 3
   },
   "file_extension": ".py",
   "mimetype": "text/x-python",
   "name": "python",
   "nbconvert_exporter": "python",
   "pygments_lexer": "ipython3",
   "version": "3.6.5"
  }
 },
 "nbformat": 4,
 "nbformat_minor": 2
}
