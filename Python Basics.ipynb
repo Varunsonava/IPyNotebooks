{
 "cells": [
  {
   "cell_type": "markdown",
   "metadata": {},
   "source": [
    "## Intro to Jupyter\n",
    "\n",
    "WE CAN WRITE CODE IN PYTHON AND ALSO USE MARKDOWN "
   ]
  },
  {
   "cell_type": "code",
   "execution_count": 26,
   "metadata": {},
   "outputs": [
    {
     "name": "stdout",
     "output_type": "stream",
     "text": [
      "12,10\n",
      "5\n"
     ]
    }
   ],
   "source": [
    "# Print Function\n",
    "print(12,end=\",\")\n",
    "print(10)\n",
    "print(5)\n",
    "b=10"
   ]
  },
  {
   "cell_type": "code",
   "execution_count": 24,
   "metadata": {},
   "outputs": [
    {
     "data": {
      "text/plain": [
       "40"
      ]
     },
     "execution_count": 24,
     "metadata": {},
     "output_type": "execute_result"
    }
   ],
   "source": [
    "# Last Line is Output\n",
    "a=10\n",
    "a+5\n",
    "a+2\n",
    "a+10\n",
    "a+30"
   ]
  },
  {
   "cell_type": "code",
   "execution_count": 20,
   "metadata": {},
   "outputs": [
    {
     "name": "stdout",
     "output_type": "stream",
     "text": [
      "<class 'int'>\n",
      "<class 'float'>\n",
      "<class 'complex'>\n"
     ]
    }
   ],
   "source": [
    "# Variables and type of numbers\n",
    "a=10\n",
    "print(type(a))\n",
    "a=10.3\n",
    "print(type(a))\n",
    "a=2+3j\n",
    "print(type(a))"
   ]
  },
  {
   "cell_type": "code",
   "execution_count": 34,
   "metadata": {},
   "outputs": [
    {
     "name": "stdout",
     "output_type": "stream",
     "text": [
      "12\n",
      "22\n",
      "0.5454545454545454\n",
      "0\n",
      "144\n",
      "5\n",
      "6\n"
     ]
    }
   ],
   "source": [
    "# Operators\n",
    "a=12\n",
    "# Since we have not declared b in this cell, so we first run the other cell in which we have declared b and then we run this cell\n",
    "c=a+b\n",
    "print(a)\n",
    "print(c)\n",
    "print(a/c)\n",
    "print(a//c)\n",
    "print(a**2)\n",
    "# Pair-wise initialization\n",
    "x,y=5,6\n",
    "print(x)\n",
    "print(y)"
   ]
  },
  {
   "cell_type": "code",
   "execution_count": 41,
   "metadata": {},
   "outputs": [
    {
     "name": "stdout",
     "output_type": "stream",
     "text": [
      "this is python3\n"
     ]
    }
   ],
   "source": [
    "# Strings\n",
    "a=\"this is python3\"\n",
    "print(a)"
   ]
  },
  {
   "cell_type": "code",
   "execution_count": 75,
   "metadata": {
    "scrolled": true
   },
   "outputs": [
    {
     "name": "stdout",
     "output_type": "stream",
     "text": [
      "3\n",
      "<class 'str'>\n",
      "a\n",
      "<class 'str'>\n",
      "abc123\n"
     ]
    }
   ],
   "source": [
    "# Typical String Properties\n",
    "print(len(a))\n",
    "print(type(a))\n",
    "print(a[0])\n",
    "# a[1]='8' INVALID! Strings are immutable in Python\n",
    "print(type(a[0])) # In Python,there is no character , everything is a string \n",
    "x='abc'\n",
    "y=\"123\"\n",
    "z=x+y # String Concatenation\n",
    "print(z)"
   ]
  },
  {
   "cell_type": "code",
   "execution_count": 79,
   "metadata": {},
   "outputs": [
    {
     "name": "stdout",
     "output_type": "stream",
     "text": [
      "abc\n",
      "ABC\n",
      "Abc\n",
      "    Abc \n",
      "Abc\n"
     ]
    }
   ],
   "source": [
    "# Some more String functions\n",
    "a='Abc'\n",
    "print(a.lower())\n",
    "print(a.upper())\n",
    "print(a)\n",
    "b='    Abc '\n",
    "print(b)\n",
    "print(b.strip())"
   ]
  },
  {
   "cell_type": "code",
   "execution_count": 64,
   "metadata": {},
   "outputs": [
    {
     "name": "stdout",
     "output_type": "stream",
     "text": [
      "1\n",
      "<class 'str'>\n",
      "1\n",
      "<class 'int'>\n"
     ]
    }
   ],
   "source": [
    "# User Input\n",
    "a=input()\n",
    "print(type(a))\n",
    "# By default , input() returns a string\n",
    "a=int(input())\n",
    "# Now , we have basically typecasted it into an integer\n",
    "print(type(a))"
   ]
  },
  {
   "cell_type": "code",
   "execution_count": 73,
   "metadata": {},
   "outputs": [
    {
     "name": "stdout",
     "output_type": "stream",
     "text": [
      "a\n",
      "a\n"
     ]
    }
   ],
   "source": [
    "# Negative indexing\n",
    "a='abc'\n",
    "# Getting the char by indexing (0,1...n-1)\n",
    "print(a[0])\n",
    "# Reverse indexing (-n,.....-2,-1)\n",
    "print(a[-3]) "
   ]
  },
  {
   "cell_type": "code",
   "execution_count": 85,
   "metadata": {},
   "outputs": [
    {
     "name": "stdout",
     "output_type": "stream",
     "text": [
      "bc\n",
      "de\n",
      "cdef\n",
      "abcdef\n"
     ]
    }
   ],
   "source": [
    "# String slicing (extracting the substring)\n",
    "s='abcdef'\n",
    "# Starting is included , ending is not included just like it is in Java\n",
    "print(s[1:3])\n",
    "print(s[-3:-1])\n",
    "# If you want from starting till end , then just leave the 2nd part of range blank\n",
    "print(s[2:])\n",
    "print(s[:])"
   ]
  },
  {
   "cell_type": "code",
   "execution_count": 94,
   "metadata": {},
   "outputs": [
    {
     "data": {
      "text/plain": [
       "'o'"
      ]
     },
     "execution_count": 94,
     "metadata": {},
     "output_type": "execute_result"
    }
   ],
   "source": [
    "\"hello\"[-1:]"
   ]
  },
  {
   "cell_type": "code",
   "execution_count": 103,
   "metadata": {},
   "outputs": [
    {
     "name": "stdout",
     "output_type": "stream",
     "text": [
      "<class 'tuple'>\n",
      "(1, 2)\n",
      "('abc', 5.5)\n"
     ]
    }
   ],
   "source": [
    "# Tuples\n",
    "# Use rounded brackets for making tuples\n",
    "t = (1,2,3)  \n",
    "print(type(t))\n",
    "# t[0]=1 INVALID! Like strings ,tuples are also immumtable\n",
    "print(t[0:2])\n",
    "# Slicing in tuples takes place from index 1 to index 2 (as last index is exclusive). \n",
    "# Tuples can also items of different types\n",
    "t2=(1,'abc',5.5)\n",
    "print(t2[1:])\n",
    "# Values cannot be modified in the case of tuple, that is, tuple is immutable. "
   ]
  },
  {
   "cell_type": "code",
   "execution_count": 110,
   "metadata": {},
   "outputs": [
    {
     "name": "stdout",
     "output_type": "stream",
     "text": [
      "(1, 2, 'abc', 1)\n",
      "(1, 2, 1, 2)\n",
      "True\n",
      "False\n"
     ]
    }
   ],
   "source": [
    "# Operations on tuple\n",
    "t=(1,2)\n",
    "k=('abc',1)\n",
    "t+k\n",
    "print(t+k)\n",
    "print(t * 2)\n",
    "print(2 in t)\n",
    "print(2 in k)"
   ]
  }
 ],
 "metadata": {
  "kernelspec": {
   "display_name": "Python 3",
   "language": "python",
   "name": "python3"
  },
  "language_info": {
   "codemirror_mode": {
    "name": "ipython",
    "version": 3
   },
   "file_extension": ".py",
   "mimetype": "text/x-python",
   "name": "python",
   "nbconvert_exporter": "python",
   "pygments_lexer": "ipython3",
   "version": "3.6.5"
  }
 },
 "nbformat": 4,
 "nbformat_minor": 2
}
