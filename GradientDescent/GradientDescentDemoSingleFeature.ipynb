{
 "cells": [
  {
   "cell_type": "code",
   "execution_count": 2,
   "metadata": {},
   "outputs": [],
   "source": [
    "import numpy as np"
   ]
  },
  {
   "cell_type": "code",
   "execution_count": 62,
   "metadata": {},
   "outputs": [
    {
     "data": {
      "text/plain": [
       "(100, 2)"
      ]
     },
     "execution_count": 62,
     "metadata": {},
     "output_type": "execute_result"
    }
   ],
   "source": [
    "data=np.loadtxt('data.csv',delimiter=',')\n",
    "data.shape"
   ]
  },
  {
   "cell_type": "code",
   "execution_count": 61,
   "metadata": {},
   "outputs": [],
   "source": [
    "def step_gradient(data,learning_rate,m,c):\n",
    "    m_slope = 0\n",
    "    c_slope = 0\n",
    "    N = len(data)\n",
    "    for i in range(len(data)):\n",
    "        x = data[i,0]\n",
    "        y = data[i,1]\n",
    "        m_slope += (-2/N)*(y - m * x - c) * x\n",
    "        c_slope += (-2/N)*(y - m * x - c)\n",
    "    new_m = m - m_slope*learning_rate\n",
    "    new_c = c - c_slope*learning_rate\n",
    "    return new_m,new_c"
   ]
  },
  {
   "cell_type": "code",
   "execution_count": 60,
   "metadata": {},
   "outputs": [],
   "source": [
    "def gradient_descent(data,learning_rate,num_iterations):\n",
    "    m = 0\n",
    "    c = 0\n",
    "    for i in range(num_iterations):\n",
    "        m , c = step_gradient(data,learning_rate,m,c)\n",
    "        print(i,\" Cost : \",cost(data,m,c))\n",
    "    return m,c"
   ]
  },
  {
   "cell_type": "code",
   "execution_count": 59,
   "metadata": {},
   "outputs": [],
   "source": [
    "def cost(points,m,c):\n",
    "    total_cost=0\n",
    "    M=len(points)\n",
    "    for i in range(M):\n",
    "        x = data[i,0]\n",
    "        y = data[i,1]\n",
    "        total_cost+=(1/M)*((y-m*x-c) ** 2)\n",
    "    return total_cost"
   ]
  },
  {
   "cell_type": "code",
   "execution_count": 58,
   "metadata": {},
   "outputs": [],
   "source": [
    "m=0\n",
    "c=0\n",
    "def run():\n",
    "    learning_rate = 0.0001\n",
    "    num_iterations = 10\n",
    "    m,c = gradient_descent(data,learning_rate,num_iterations)\n",
    "    print(m,c)"
   ]
  },
  {
   "cell_type": "code",
   "execution_count": 57,
   "metadata": {},
   "outputs": [
    {
     "name": "stdout",
     "output_type": "stream",
     "text": [
      "0  Cost :  1484.5865574086486\n",
      "1  Cost :  457.8542575737672\n",
      "2  Cost :  199.5099857255389\n",
      "3  Cost :  134.50591058200533\n",
      "4  Cost :  118.1496934223995\n",
      "5  Cost :  114.0341490603815\n",
      "6  Cost :  112.99857731713657\n",
      "7  Cost :  112.73798187568467\n",
      "8  Cost :  112.6723843590911\n",
      "9  Cost :  112.65585181499745\n",
      "1.47741737554838 0.029639347874732384\n"
     ]
    }
   ],
   "source": [
    "run()"
   ]
  },
  {
   "cell_type": "code",
   "execution_count": 63,
   "metadata": {},
   "outputs": [
    {
     "data": {
      "image/png": "[encoded data removed]",
      "text/plain": [
       "<Figure size 432x288 with 1 Axes>"
      ]
     },
     "metadata": {},
     "output_type": "display_data"
    }
   ],
   "source": [
    "import matplotlib.pyplot as plt\n",
    "x_line=np.arange(0,100,0.1)\n",
    "y_line= m * x_line + c\n",
    "plt.plot(x_line,y_line)\n",
    "plt.scatter(data[:,0],data[:,1])\n",
    "plt.show()"
   ]
  },
  {
   "cell_type": "code",
   "execution_count": null,
   "metadata": {},
   "outputs": [],
   "source": []
  },
  {
   "cell_type": "code",
   "execution_count": null,
   "metadata": {},
   "outputs": [],
   "source": []
  },
  {
   "cell_type": "code",
   "execution_count": null,
   "metadata": {},
   "outputs": [],
   "source": []
  }
 ],
 "metadata": {
  "kernelspec": {
   "display_name": "Python 3",
   "language": "python",
   "name": "python3"
  },
  "language_info": {
   "codemirror_mode": {
    "name": "ipython",
    "version": 3
   },
   "file_extension": ".py",
   "mimetype": "text/x-python",
   "name": "python",
   "nbconvert_exporter": "python",
   "pygments_lexer": "ipython3",
   "version": "3.6.5"
  }
 },
 "nbformat": 4,
 "nbformat_minor": 2
}
