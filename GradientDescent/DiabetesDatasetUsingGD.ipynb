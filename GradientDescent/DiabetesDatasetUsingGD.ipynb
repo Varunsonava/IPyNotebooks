{
 "cells": [
  {
   "cell_type": "code",
   "execution_count": null,
   "metadata": {},
   "outputs": [],
   "source": [
    "import numpy as np"
   ]
  },
  {
   "cell_type": "code",
   "execution_count": null,
   "metadata": {},
   "outputs": [],
   "source": [
    "train_data=np.loadtxt('training_diabetes_x_y_train.csv',delimiter=',')\n",
    "x_test=np.loadtxt('test_diabetes_x_test.csv',delimiter=',')"
   ]
  },
  {
   "cell_type": "code",
   "execution_count": null,
   "metadata": {},
   "outputs": [],
   "source": [
    "train_data.shape\n",
    "x_train=train_data[:,0:10]\n",
    "y_train=train_data[:,10]\n",
    "x_train.shape"
   ]
  },
  {
   "cell_type": "code",
   "execution_count": null,
   "metadata": {},
   "outputs": [],
   "source": [
    "# Adding a column for constant in X_train\n",
    "x_train=np.c_[x_train,np.ones(x_train.shape[0])]"
   ]
  },
  {
   "cell_type": "code",
   "execution_count": null,
   "metadata": {},
   "outputs": [],
   "source": [
    "# Adding a column for constant in X_test\n",
    "x_test=np.c_[x_test,np.ones(x_test.shape[0])]"
   ]
  },
  {
   "cell_type": "code",
   "execution_count": null,
   "metadata": {},
   "outputs": [],
   "source": [
    "def cost(slope):\n",
    "    total_cost=0\n",
    "    M=x_train.shape[0]\n",
    "    for i in range(M):\n",
    "        x=x_train[i]\n",
    "        y=y_train[i]\n",
    "        total_cost+=(1/M)*((y-(x*slope).sum())**2)\n",
    "    return total_cost\n",
    "\n",
    "def sg(slope,lr):\n",
    "    M=len(x_train)\n",
    "    new_slope = np.zeros(x_train.shape[1])\n",
    "    for i in range(M):\n",
    "        output=y_train[i]\n",
    "        for j in range(x_train.shape[1]):\n",
    "            curr=x_train[i][j]\n",
    "            new_slope[j]+=(-2/M)*(output-(x_train[i]*slope).sum())*curr\n",
    "    slope=slope-new_slope*lr # Batch gradient descent\n",
    "    return slope\n",
    "\n",
    "def gd():\n",
    "    numIter=100000\n",
    "    lr=0.1\n",
    "    slope=np.zeros(x_train.shape[1])\n",
    "    for i in range(numIter):\n",
    "        slope=sg(slope,lr)\n",
    "        print(i,\" Cost: \",cost(slope))\n",
    "    print(slope)"
   ]
  },
  {
   "cell_type": "code",
   "execution_count": null,
   "metadata": {},
   "outputs": [],
   "source": [
    "m=gd()\n",
    "#m "
   ]
  },
  {
   "cell_type": "code",
   "execution_count": null,
   "metadata": {},
   "outputs": [],
   "source": [
    "x_train.shape"
   ]
  },
  {
   "cell_type": "code",
   "execution_count": null,
   "metadata": {},
   "outputs": [],
   "source": []
  },
  {
   "cell_type": "code",
   "execution_count": null,
   "metadata": {},
   "outputs": [],
   "source": []
  }
 ],
 "metadata": {
  "kernelspec": {
   "display_name": "Python 3",
   "language": "python",
   "name": "python3"
  },
  "language_info": {
   "codemirror_mode": {
    "name": "ipython",
    "version": 3
   },
   "file_extension": ".py",
   "mimetype": "text/x-python",
   "name": "python",
   "nbconvert_exporter": "python",
   "pygments_lexer": "ipython3",
   "version": "3.6.5"
  }
 },
 "nbformat": 4,
 "nbformat_minor": 2
}
