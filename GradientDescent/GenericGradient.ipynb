{
 "cells": [
  {
   "cell_type": "code",
   "execution_count": 2,
   "metadata": {},
   "outputs": [],
   "source": [
    "import numpy as np"
   ]
  },
  {
   "cell_type": "code",
   "execution_count": 186,
   "metadata": {},
   "outputs": [],
   "source": [
    "data=np.loadtxt('data.csv',delimiter=',')\n",
    "data.shape\n",
    "\n",
    "# Building the m*1 output matrix\n",
    "Y=data[:,data.shape[1]-1]\n",
    "Y.shape # Output array is a 1D array\n",
    "Y=Y.reshape(Y.shape[0],1) # Change this 1D array in 2D array\n",
    "\n",
    "# Building the m*(n+1) input matrix (n feature columns and 1 all one columns) \n",
    "mydata=data[:,0:data.shape[1]-1] # Getting the input array of data points (not the output part)\n",
    "mydata.shape\n",
    "allOnes=np.ones((data.shape[0],1))\n",
    "mydata=np.c_[mydata,allOnes.astype(int)]"
   ]
  },
  {
   "cell_type": "code",
   "execution_count": 187,
   "metadata": {},
   "outputs": [],
   "source": [
    "def cost(points,m,c):\n",
    "    total_cost=0\n",
    "    M=len(points)\n",
    "    total_cost=(1/M)*((mydata.dot(m)-Y)**2)\n",
    "    return total_cost"
   ]
  },
  {
   "cell_type": "code",
   "execution_count": 188,
   "metadata": {},
   "outputs": [],
   "source": [
    "def step_gradient(data,learning_rate,m):\n",
    "    m_slope = 0\n",
    "    M = len(data) # Number of data points\n",
    "    m = m - (-2/M)*learning_rate*((mydata.T).dot(mydata.dot(m)-Y))\n",
    "    return m"
   ]
  },
  {
   "cell_type": "code",
   "execution_count": 189,
   "metadata": {},
   "outputs": [],
   "source": [
    "def gradient_descent(data,learning_rate,num_iterations):\n",
    "    N=data.shape[1]\n",
    "    m=np.zeros((N,1))\n",
    "    for i in range(num_iterations):\n",
    "        m = step_gradient(mydata,learning_rate,m)\n",
    "        # print(i,\" Cost : \",cost(data,m,c))\n",
    "    return m"
   ]
  },
  {
   "cell_type": "code",
   "execution_count": 190,
   "metadata": {},
   "outputs": [],
   "source": [
    "def run():\n",
    "    learning_rate = 0.0001\n",
    "    num_iterations = 10\n",
    "    m = gradient_descent(data,learning_rate,num_iterations)\n",
    "    #print(m)\n",
    "    return m"
   ]
  },
  {
   "cell_type": "code",
   "execution_count": 191,
   "metadata": {},
   "outputs": [],
   "source": [
    "m,c=run()"
   ]
  },
  {
   "cell_type": "code",
   "execution_count": 192,
   "metadata": {},
   "outputs": [
    {
     "name": "stdout",
     "output_type": "stream",
     "text": [
      "[-82.8891507] [-1.6297622]\n"
     ]
    },
    {
     "data": {
      "image/png": "[encoded data removed]",
      "text/plain": [
       "<Figure size 432x288 with 1 Axes>"
      ]
     },
     "metadata": {},
     "output_type": "display_data"
    }
   ],
   "source": [
    "import matplotlib.pyplot as plt\n",
    "print(m,c)\n",
    "x_line=np.arange(0,100,0.1)\n",
    "y_line= m1 * x_line + c\n",
    "plt.plot(x_line,y_line)\n",
    "plt.scatter(data[:,0],data[:,1])\n",
    "plt.show()"
   ]
  },
  {
   "cell_type": "code",
   "execution_count": 193,
   "metadata": {},
   "outputs": [
    {
     "data": {
      "text/plain": [
       "array([[1, 4],\n",
       "       [3, 8]])"
      ]
     },
     "execution_count": 193,
     "metadata": {},
     "output_type": "execute_result"
    }
   ],
   "source": [
    "a=np.array([1,2])\n",
    "b=np.array([[1,2],[3,4]])\n",
    "a.dot(b)\n",
    "a*b"
   ]
  },
  {
   "cell_type": "code",
   "execution_count": null,
   "metadata": {},
   "outputs": [],
   "source": []
  },
  {
   "cell_type": "code",
   "execution_count": null,
   "metadata": {},
   "outputs": [],
   "source": []
  },
  {
   "cell_type": "code",
   "execution_count": null,
   "metadata": {},
   "outputs": [],
   "source": []
  }
 ],
 "metadata": {
  "kernelspec": {
   "display_name": "Python 3",
   "language": "python",
   "name": "python3"
  },
  "language_info": {
   "codemirror_mode": {
    "name": "ipython",
    "version": 3
   },
   "file_extension": ".py",
   "mimetype": "text/x-python",
   "name": "python",
   "nbconvert_exporter": "python",
   "pygments_lexer": "ipython3",
   "version": "3.6.5"
  }
 },
 "nbformat": 4,
 "nbformat_minor": 2
}
