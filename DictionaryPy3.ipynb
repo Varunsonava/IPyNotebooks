{
 "cells": [
  {
   "cell_type": "code",
   "execution_count": 7,
   "metadata": {},
   "outputs": [
    {
     "data": {
      "text/plain": [
       "{1: 'b', 4: 'e'}"
      ]
     },
     "execution_count": 7,
     "metadata": {},
     "output_type": "execute_result"
    }
   ],
   "source": [
    "# how to create a dictionary adding ,removing and initializing\n",
    "d={0:'a',1:'b'}\n",
    "d\n",
    "d[4]='e' # either updates or adds a new key,value pair\n",
    "d\n",
    "del d[0]\n",
    "d"
   ]
  },
  {
   "cell_type": "code",
   "execution_count": 9,
   "metadata": {},
   "outputs": [
    {
     "name": "stdout",
     "output_type": "stream",
     "text": [
      "1:b\n",
      "4:e\n"
     ]
    }
   ],
   "source": [
    "# accessing elements in dictionary\n",
    "for i in d:\n",
    "    print(i,end=\":\")\n",
    "    print(d[i])"
   ]
  },
  {
   "cell_type": "code",
   "execution_count": 14,
   "metadata": {},
   "outputs": [
    {
     "name": "stdout",
     "output_type": "stream",
     "text": [
      "True\n",
      "0\n",
      "dict_keys([0, 1, 'abc'])\n",
      "dict_values(['a', 'b', 3])\n"
     ]
    }
   ],
   "source": [
    "# Common functions\n",
    "d1={}\n",
    "d2={}\n",
    "print(d1==d2) # comparing 2 dictionaries\n",
    "print(len(d1)) # gives number of keys in dictionaries\n",
    "d1[0]='a'\n",
    "d1[1]='b'\n",
    "d1['abc']=3\n",
    "d1\n",
    "print(d1.keys())\n",
    "print(d1.values())"
   ]
  },
  {
   "cell_type": "code",
   "execution_count": null,
   "metadata": {},
   "outputs": [],
   "source": []
  }
 ],
 "metadata": {
  "kernelspec": {
   "display_name": "Python 3",
   "language": "python",
   "name": "python3"
  },
  "language_info": {
   "codemirror_mode": {
    "name": "ipython",
    "version": 3
   },
   "file_extension": ".py",
   "mimetype": "text/x-python",
   "name": "python",
   "nbconvert_exporter": "python",
   "pygments_lexer": "ipython3",
   "version": "3.6.5"
  }
 },
 "nbformat": 4,
 "nbformat_minor": 2
}
